{
 "cells": [
  {
   "cell_type": "code",
   "execution_count": 457,
   "id": "a618c53b",
   "metadata": {},
   "outputs": [],
   "source": [
    "import pandas as pd\n",
    "import numpy as np\n",
    "import matplotlib.pyplot as plt\n",
    "import seaborn as sns\n",
    "sns.set_style(\"darkgrid\")"
   ]
  },
  {
   "cell_type": "code",
   "execution_count": 461,
   "id": "c41a8bfe",
   "metadata": {},
   "outputs": [
    {
     "data": {
      "text/html": [
       "<div>\n",
       "<style scoped>\n",
       "    .dataframe tbody tr th:only-of-type {\n",
       "        vertical-align: middle;\n",
       "    }\n",
       "\n",
       "    .dataframe tbody tr th {\n",
       "        vertical-align: top;\n",
       "    }\n",
       "\n",
       "    .dataframe thead th {\n",
       "        text-align: right;\n",
       "    }\n",
       "</style>\n",
       "<table border=\"1\" class=\"dataframe\">\n",
       "  <thead>\n",
       "    <tr style=\"text-align: right;\">\n",
       "      <th></th>\n",
       "      <th>Published Date</th>\n",
       "      <th>Account</th>\n",
       "      <th>Account Type</th>\n",
       "      <th>Campaign Name</th>\n",
       "      <th>Total Impressions</th>\n",
       "      <th>Total Engagements</th>\n",
       "      <th>Media Type</th>\n",
       "    </tr>\n",
       "  </thead>\n",
       "  <tbody>\n",
       "    <tr>\n",
       "      <th>0</th>\n",
       "      <td>2023-03-31 19:55:43.192</td>\n",
       "      <td>CSGO</td>\n",
       "      <td>TWITTER</td>\n",
       "      <td>N/A</td>\n",
       "      <td>0.0</td>\n",
       "      <td>0.0</td>\n",
       "      <td>Text</td>\n",
       "    </tr>\n",
       "    <tr>\n",
       "      <th>1</th>\n",
       "      <td>2023-03-31 19:49:35.243</td>\n",
       "      <td>CSGO</td>\n",
       "      <td>TWITTER</td>\n",
       "      <td>N/A</td>\n",
       "      <td>0.0</td>\n",
       "      <td>0.0</td>\n",
       "      <td>Text</td>\n",
       "    </tr>\n",
       "    <tr>\n",
       "      <th>2</th>\n",
       "      <td>2023-03-31 19:49:33.535</td>\n",
       "      <td>CSGO</td>\n",
       "      <td>TWITTER</td>\n",
       "      <td>N/A</td>\n",
       "      <td>0.0</td>\n",
       "      <td>0.0</td>\n",
       "      <td>Text</td>\n",
       "    </tr>\n",
       "    <tr>\n",
       "      <th>3</th>\n",
       "      <td>2023-03-31 19:49:31.583</td>\n",
       "      <td>CSGO</td>\n",
       "      <td>TWITTER</td>\n",
       "      <td>N/A</td>\n",
       "      <td>0.0</td>\n",
       "      <td>0.0</td>\n",
       "      <td>Text</td>\n",
       "    </tr>\n",
       "    <tr>\n",
       "      <th>4</th>\n",
       "      <td>2023-03-31 19:43:42.590</td>\n",
       "      <td>CSGO</td>\n",
       "      <td>TWITTER</td>\n",
       "      <td>Community Engagement</td>\n",
       "      <td>9517.0</td>\n",
       "      <td>1215.0</td>\n",
       "      <td>Video</td>\n",
       "    </tr>\n",
       "  </tbody>\n",
       "</table>\n",
       "</div>"
      ],
      "text/plain": [
       "           Published Date Account Account Type          Campaign Name  \\\n",
       "0 2023-03-31 19:55:43.192    CSGO      TWITTER                   N/A    \n",
       "1 2023-03-31 19:49:35.243    CSGO      TWITTER                   N/A    \n",
       "2 2023-03-31 19:49:33.535    CSGO      TWITTER                   N/A    \n",
       "3 2023-03-31 19:49:31.583    CSGO      TWITTER                   N/A    \n",
       "4 2023-03-31 19:43:42.590    CSGO      TWITTER  Community Engagement    \n",
       "\n",
       "   Total Impressions  Total Engagements Media Type  \n",
       "0                0.0                0.0       Text  \n",
       "1                0.0                0.0       Text  \n",
       "2                0.0                0.0       Text  \n",
       "3                0.0                0.0       Text  \n",
       "4             9517.0             1215.0      Video  "
      ]
     },
     "execution_count": 461,
     "metadata": {},
     "output_type": "execute_result"
    }
   ],
   "source": [
    "df = pd.read_excel(\"social_data.xlsx\")\n",
    "df.head()"
   ]
  },
  {
   "cell_type": "code",
   "execution_count": 462,
   "id": "13905cf7",
   "metadata": {
    "scrolled": true
   },
   "outputs": [
    {
     "data": {
      "text/plain": [
       "Published Date       False\n",
       "Account              False\n",
       "Account Type         False\n",
       "Campaign Name        False\n",
       "Total Impressions    False\n",
       "Total Engagements    False\n",
       "Media Type           False\n",
       "dtype: bool"
      ]
     },
     "execution_count": 462,
     "metadata": {},
     "output_type": "execute_result"
    }
   ],
   "source": [
    "# no missing data <-- don't need to clean up dataframe\n",
    "df.isnull().any()"
   ]
  },
  {
   "cell_type": "code",
   "execution_count": 463,
   "id": "fa875c30",
   "metadata": {
    "scrolled": true
   },
   "outputs": [
    {
     "name": "stdout",
     "output_type": "stream",
     "text": [
      "<class 'pandas.core.frame.DataFrame'>\n",
      "RangeIndex: 3479 entries, 0 to 3478\n",
      "Data columns (total 7 columns):\n",
      " #   Column             Non-Null Count  Dtype         \n",
      "---  ------             --------------  -----         \n",
      " 0   Published Date     3479 non-null   datetime64[ns]\n",
      " 1   Account            3479 non-null   object        \n",
      " 2   Account Type       3479 non-null   object        \n",
      " 3   Campaign Name      3479 non-null   object        \n",
      " 4   Total Impressions  3479 non-null   float64       \n",
      " 5   Total Engagements  3479 non-null   float64       \n",
      " 6   Media Type         3479 non-null   object        \n",
      "dtypes: datetime64[ns](1), float64(2), object(4)\n",
      "memory usage: 190.4+ KB\n"
     ]
    }
   ],
   "source": [
    "df.info()"
   ]
  },
  {
   "cell_type": "markdown",
   "id": "1ee9e608",
   "metadata": {},
   "source": [
    "## 1) What is the typical engagement rate we can expect? What's the likelihood that we can achieve a 15% engagement rate?\n",
    "Typical engagement rate we can expect is 4.202719749774868%. <br>\n",
    "The likelihood that we can achieve a 15% engagement rate is 6.4961195745903995%. <br>\n",
    "\n",
    "    # The typical engagement rate for each account type is:\n",
    "            FBPAGE              11.283108%\n",
    "            TIKTOK_BUSINESS      5.316753%\n",
    "            TWITTER              3.248994%\n",
    "            YOUTUBE              3.048881%\n",
    "            LINKEDIN_COMPANY     1.795018%\n",
    "            INSTAGRAM            0.666769%\n",
    "\n"
   ]
  },
  {
   "cell_type": "code",
   "execution_count": 464,
   "id": "aaaba81f",
   "metadata": {
    "scrolled": false
   },
   "outputs": [
    {
     "name": "stdout",
     "output_type": "stream",
     "text": [
      "              Published Date   Account Account Type Campaign Name  \\\n",
      "837  2023-03-10 12:37:06.000  General        FBPAGE          N/A    \n",
      "3457 2023-01-05 11:55:44.000  General        FBPAGE          N/A    \n",
      "3216 2023-01-19 06:02:34.000  General        FBPAGE          N/A    \n",
      "1586 2023-02-23 06:18:27.000  General        FBPAGE          N/A    \n",
      "2361 2023-02-09 15:00:00.377  General       TWITTER          N/A    \n",
      "\n",
      "      Total Impressions  Total Engagements Media Type  Engagement Rate  \n",
      "837                 1.0              940.0      Photo     94000.000000  \n",
      "3457              300.0             3776.0      Photo      1258.666667  \n",
      "3216                5.0               44.0      Photo       880.000000  \n",
      "1586                1.0                1.0      Photo       100.000000  \n",
      "2361               55.0               33.0       Link        60.000000  \n"
     ]
    },
    {
     "data": {
      "text/plain": [
       "4.202719749774868"
      ]
     },
     "execution_count": 464,
     "metadata": {},
     "output_type": "execute_result"
    }
   ],
   "source": [
    "# typical engagement rate = average engagement rate\n",
    "\n",
    "copyDf = df\n",
    "\n",
    "# calculate engagement rates\n",
    "copyDf[\"Engagement Rate\"] = copyDf[\"Total Engagements\"] / copyDf[\"Total Impressions\"] * 100\n",
    "\n",
    "# clean up NAN with 0 -- 0/0 = NAN\n",
    "copyDf.fillna(0, inplace = True)\n",
    "\n",
    "# checking for outliers (engagement rates over 100%)\n",
    "# can see that there are three outliers with engagement rates over 100%\n",
    "print(copyDf.sort_values(by=\"Engagement Rate\", ascending=False).head())\n",
    "\n",
    "\n",
    "\n",
    "# clean up outliers of engagement rates over 100% <-- ONLY FOR CALCULATING TYPICAL ENGAGEMENT RATE\n",
    "# No Outlier Dataframe\n",
    "copyDf = copyDf[copyDf[\"Engagement Rate\"] <= 100]\n",
    "\n",
    "# print(NOcopyDf.sort_values(by=\"Engagement Rate\", ascending=False))\n",
    "\n",
    "# AVERAGE ENGAGEMENT RATE = 4.202719749774868%\n",
    "copyDf[\"Engagement Rate\"].mean()"
   ]
  },
  {
   "cell_type": "code",
   "execution_count": 465,
   "id": "b99c6e4c",
   "metadata": {},
   "outputs": [
    {
     "data": {
      "text/plain": [
       "Account Type\n",
       "FBPAGE              11.283108\n",
       "TIKTOK_BUSINESS      5.316753\n",
       "TWITTER              3.248994\n",
       "YOUTUBE              3.048881\n",
       "LINKEDIN_COMPANY     1.795018\n",
       "INSTAGRAM            0.666769\n",
       "Name: Engagement Rate, dtype: float64"
      ]
     },
     "execution_count": 465,
     "metadata": {},
     "output_type": "execute_result"
    }
   ],
   "source": [
    "# grouping by social media account, calculated the average engagement rate\n",
    "# make sure to use dataframe WITHOUT outlier\n",
    "accountER = copyDf.groupby(copyDf[\"Account Type\"])[\"Engagement Rate\"].mean()\n",
    "# typical engagement rate per social media platform\n",
    "accountER.sort_values(ascending = False)"
   ]
  },
  {
   "cell_type": "code",
   "execution_count": 466,
   "id": "a2b421c3",
   "metadata": {},
   "outputs": [
    {
     "data": {
      "text/plain": [
       "6.4961195745903995"
      ]
     },
     "execution_count": 466,
     "metadata": {},
     "output_type": "execute_result"
    }
   ],
   "source": [
    "# Engagement rate = how engaged the users who saw the content were\n",
    "# engagement rate = total engagements / total impressions\n",
    "\n",
    "# include rows even if Total Imprerssions = 0 since it means the post had literally 0% engagement rate\n",
    "# also INLCUDE OUTLIERS since they surpass 15% <-- using original dataframe\n",
    "# rows that meet at least 15% engagement rate\n",
    "engaged = df[df[\"Total Engagements\"]/df[\"Total Impressions\"] >= 0.15]\n",
    "\n",
    "# length of dataframe / number of rows that have at least 15% engagement rate\n",
    "prob = len(engaged) / len(newDf) * 100\n",
    "\n",
    "# PROBABILITY OF ACHIEVING AT LEAST 15% ENGAGEMENT RATE = 6.4961195745903995%\n",
    "prob"
   ]
  },
  {
   "cell_type": "markdown",
   "id": "1ed662cf",
   "metadata": {},
   "source": [
    "## 2) Does day of the week and time of posting affect engagement rates?\n",
    "The day of the week has no significant effect on the engagement rate. However, it shows that Tuesday, Thursday, and Sunday meet the typical engagement rate that is to be expected. <br>\n",
    "<br>\n",
    "Without data on how many engagements per X time after the post was made, the dataset can imply that the closer to the hour that people wake up, the higher the engagement rate a post can have. In the graph below, it shows that there is a spike in engagement rate in post(s) made between 5:30 AM - 5:59 AM. <br>\n",
    "<br>\n",
    "Posts published towards the end of the night (before the next day, 12 AM), have relatively lower engagement rates. This may be a result of fewer people being awake at the time. "
   ]
  },
  {
   "cell_type": "code",
   "execution_count": 467,
   "id": "730a407f",
   "metadata": {},
   "outputs": [
    {
     "data": {
      "text/html": [
       "<div>\n",
       "<style scoped>\n",
       "    .dataframe tbody tr th:only-of-type {\n",
       "        vertical-align: middle;\n",
       "    }\n",
       "\n",
       "    .dataframe tbody tr th {\n",
       "        vertical-align: top;\n",
       "    }\n",
       "\n",
       "    .dataframe thead th {\n",
       "        text-align: right;\n",
       "    }\n",
       "</style>\n",
       "<table border=\"1\" class=\"dataframe\">\n",
       "  <thead>\n",
       "    <tr style=\"text-align: right;\">\n",
       "      <th></th>\n",
       "      <th>Published Date</th>\n",
       "      <th>Account</th>\n",
       "      <th>Account Type</th>\n",
       "      <th>Campaign Name</th>\n",
       "      <th>Total Impressions</th>\n",
       "      <th>Total Engagements</th>\n",
       "      <th>Media Type</th>\n",
       "      <th>Engagement Rate</th>\n",
       "      <th>Day of Week</th>\n",
       "    </tr>\n",
       "  </thead>\n",
       "  <tbody>\n",
       "    <tr>\n",
       "      <th>0</th>\n",
       "      <td>2023-03-31 19:55:43.192</td>\n",
       "      <td>CSGO</td>\n",
       "      <td>TWITTER</td>\n",
       "      <td>N/A</td>\n",
       "      <td>0.0</td>\n",
       "      <td>0.0</td>\n",
       "      <td>Text</td>\n",
       "      <td>0.000000</td>\n",
       "      <td>Friday</td>\n",
       "    </tr>\n",
       "    <tr>\n",
       "      <th>1</th>\n",
       "      <td>2023-03-31 19:49:35.243</td>\n",
       "      <td>CSGO</td>\n",
       "      <td>TWITTER</td>\n",
       "      <td>N/A</td>\n",
       "      <td>0.0</td>\n",
       "      <td>0.0</td>\n",
       "      <td>Text</td>\n",
       "      <td>0.000000</td>\n",
       "      <td>Friday</td>\n",
       "    </tr>\n",
       "    <tr>\n",
       "      <th>2</th>\n",
       "      <td>2023-03-31 19:49:33.535</td>\n",
       "      <td>CSGO</td>\n",
       "      <td>TWITTER</td>\n",
       "      <td>N/A</td>\n",
       "      <td>0.0</td>\n",
       "      <td>0.0</td>\n",
       "      <td>Text</td>\n",
       "      <td>0.000000</td>\n",
       "      <td>Friday</td>\n",
       "    </tr>\n",
       "    <tr>\n",
       "      <th>3</th>\n",
       "      <td>2023-03-31 19:49:31.583</td>\n",
       "      <td>CSGO</td>\n",
       "      <td>TWITTER</td>\n",
       "      <td>N/A</td>\n",
       "      <td>0.0</td>\n",
       "      <td>0.0</td>\n",
       "      <td>Text</td>\n",
       "      <td>0.000000</td>\n",
       "      <td>Friday</td>\n",
       "    </tr>\n",
       "    <tr>\n",
       "      <th>4</th>\n",
       "      <td>2023-03-31 19:43:42.590</td>\n",
       "      <td>CSGO</td>\n",
       "      <td>TWITTER</td>\n",
       "      <td>Community Engagement</td>\n",
       "      <td>9517.0</td>\n",
       "      <td>1215.0</td>\n",
       "      <td>Video</td>\n",
       "      <td>12.766628</td>\n",
       "      <td>Friday</td>\n",
       "    </tr>\n",
       "    <tr>\n",
       "      <th>...</th>\n",
       "      <td>...</td>\n",
       "      <td>...</td>\n",
       "      <td>...</td>\n",
       "      <td>...</td>\n",
       "      <td>...</td>\n",
       "      <td>...</td>\n",
       "      <td>...</td>\n",
       "      <td>...</td>\n",
       "      <td>...</td>\n",
       "    </tr>\n",
       "    <tr>\n",
       "      <th>3474</th>\n",
       "      <td>2023-01-03 10:35:12.652</td>\n",
       "      <td>CSGO</td>\n",
       "      <td>TWITTER</td>\n",
       "      <td>N/A</td>\n",
       "      <td>0.0</td>\n",
       "      <td>0.0</td>\n",
       "      <td>Link</td>\n",
       "      <td>0.000000</td>\n",
       "      <td>Tuesday</td>\n",
       "    </tr>\n",
       "    <tr>\n",
       "      <th>3475</th>\n",
       "      <td>2023-01-03 10:34:55.487</td>\n",
       "      <td>CSGO</td>\n",
       "      <td>TWITTER</td>\n",
       "      <td>N/A</td>\n",
       "      <td>0.0</td>\n",
       "      <td>0.0</td>\n",
       "      <td>Link</td>\n",
       "      <td>0.000000</td>\n",
       "      <td>Tuesday</td>\n",
       "    </tr>\n",
       "    <tr>\n",
       "      <th>3476</th>\n",
       "      <td>2023-01-03 10:34:38.631</td>\n",
       "      <td>CSGO</td>\n",
       "      <td>TWITTER</td>\n",
       "      <td>N/A</td>\n",
       "      <td>0.0</td>\n",
       "      <td>0.0</td>\n",
       "      <td>Link</td>\n",
       "      <td>0.000000</td>\n",
       "      <td>Tuesday</td>\n",
       "    </tr>\n",
       "    <tr>\n",
       "      <th>3477</th>\n",
       "      <td>2023-01-03 10:34:03.438</td>\n",
       "      <td>CSGO</td>\n",
       "      <td>TWITTER</td>\n",
       "      <td>N/A</td>\n",
       "      <td>2116.0</td>\n",
       "      <td>42.0</td>\n",
       "      <td>Text</td>\n",
       "      <td>1.984877</td>\n",
       "      <td>Tuesday</td>\n",
       "    </tr>\n",
       "    <tr>\n",
       "      <th>3478</th>\n",
       "      <td>2023-01-01 14:59:04.000</td>\n",
       "      <td>General</td>\n",
       "      <td>FBPAGE</td>\n",
       "      <td>N/A</td>\n",
       "      <td>0.0</td>\n",
       "      <td>0.0</td>\n",
       "      <td>Photo</td>\n",
       "      <td>0.000000</td>\n",
       "      <td>Sunday</td>\n",
       "    </tr>\n",
       "  </tbody>\n",
       "</table>\n",
       "<p>3476 rows × 9 columns</p>\n",
       "</div>"
      ],
      "text/plain": [
       "              Published Date   Account Account Type          Campaign Name  \\\n",
       "0    2023-03-31 19:55:43.192      CSGO      TWITTER                   N/A    \n",
       "1    2023-03-31 19:49:35.243      CSGO      TWITTER                   N/A    \n",
       "2    2023-03-31 19:49:33.535      CSGO      TWITTER                   N/A    \n",
       "3    2023-03-31 19:49:31.583      CSGO      TWITTER                   N/A    \n",
       "4    2023-03-31 19:43:42.590      CSGO      TWITTER  Community Engagement    \n",
       "...                      ...       ...          ...                    ...   \n",
       "3474 2023-01-03 10:35:12.652      CSGO      TWITTER                   N/A    \n",
       "3475 2023-01-03 10:34:55.487      CSGO      TWITTER                   N/A    \n",
       "3476 2023-01-03 10:34:38.631      CSGO      TWITTER                   N/A    \n",
       "3477 2023-01-03 10:34:03.438      CSGO      TWITTER                   N/A    \n",
       "3478 2023-01-01 14:59:04.000  General        FBPAGE                   N/A    \n",
       "\n",
       "      Total Impressions  Total Engagements Media Type  Engagement Rate  \\\n",
       "0                   0.0                0.0       Text         0.000000   \n",
       "1                   0.0                0.0       Text         0.000000   \n",
       "2                   0.0                0.0       Text         0.000000   \n",
       "3                   0.0                0.0       Text         0.000000   \n",
       "4                9517.0             1215.0      Video        12.766628   \n",
       "...                 ...                ...        ...              ...   \n",
       "3474                0.0                0.0       Link         0.000000   \n",
       "3475                0.0                0.0       Link         0.000000   \n",
       "3476                0.0                0.0       Link         0.000000   \n",
       "3477             2116.0               42.0       Text         1.984877   \n",
       "3478                0.0                0.0      Photo         0.000000   \n",
       "\n",
       "     Day of Week  \n",
       "0         Friday  \n",
       "1         Friday  \n",
       "2         Friday  \n",
       "3         Friday  \n",
       "4         Friday  \n",
       "...          ...  \n",
       "3474     Tuesday  \n",
       "3475     Tuesday  \n",
       "3476     Tuesday  \n",
       "3477     Tuesday  \n",
       "3478      Sunday  \n",
       "\n",
       "[3476 rows x 9 columns]"
      ]
     },
     "execution_count": 467,
     "metadata": {},
     "output_type": "execute_result"
    }
   ],
   "source": [
    "# need to exclude the outliers with engagement rate over 100% so use copyDf\n",
    "dates = pd.to_datetime(copyDf[\"Published Date\"])\n",
    "copyDf[\"Day of Week\"] = dates.dt.day_name()\n",
    "copyDf"
   ]
  },
  {
   "cell_type": "code",
   "execution_count": 470,
   "id": "b6c2d146",
   "metadata": {},
   "outputs": [
    {
     "name": "stdout",
     "output_type": "stream",
     "text": [
      "Day of Week\n",
      "Monday       3.590710\n",
      "Tuesday      5.055946\n",
      "Wednesday    3.322831\n",
      "Thursday     4.915714\n",
      "Friday       4.195042\n",
      "Saturday     3.068647\n",
      "Sunday       4.297761\n",
      "Name: Engagement Rate, dtype: float64\n"
     ]
    }
   ],
   "source": [
    "# group by day of the week, calculate average engagement rates\n",
    "dayER= copyDf.groupby([copyDf[\"Day of Week\"]])['Engagement Rate'].mean()\n",
    "print(dayER)"
   ]
  },
  {
   "cell_type": "code",
   "execution_count": 471,
   "id": "7d0fef00",
   "metadata": {
    "scrolled": false
   },
   "outputs": [
    {
     "data": {
      "text/plain": [
       "Text(0.5, 1.0, 'Engagement Rate Everyday')"
      ]
     },
     "execution_count": 471,
     "metadata": {},
     "output_type": "execute_result"
    },
    {
     "data": {
      "image/png": "[encoded data removed]",
      "text/plain": [
       "<Figure size 720x432 with 1 Axes>"
      ]
     },
     "metadata": {},
     "output_type": "display_data"
    }
   ],
   "source": [
    "# use categorical to show barplot in order of Days of the Week\n",
    "cats = ['Monday', 'Tuesday', 'Wednesday', 'Thursday', 'Friday', 'Saturday', 'Sunday']\n",
    "weekDf = copyDf\n",
    "weekDf['Day of Week'] = pd.Categorical(weekDf['Day of Week'], categories=cats, ordered=True)\n",
    "weekDf = weekDf.sort_values('Day of Week')\n",
    "\n",
    "sns.set_context(\"notebook\", font_scale = 1.5)\n",
    "# Adjust the figure size to spread out the labels\n",
    "plt.figure(figsize=(10, 6))\n",
    "\n",
    "# # barplot estimator is the mean of engagment rate\n",
    "ax = sns.barplot(x = \"Day of Week\", y = \"Engagement Rate\", data = weekDf)\n",
    "ax.set_ylabel(\"Engagement Rate (%)\")\n",
    "\n",
    "for i, value in enumerate(dayER):\n",
    "    plt.text(i, value, str(round(value, 2)) + '%')\n",
    "\n",
    "plt.title(\"Engagement Rate Everyday\")"
   ]
  },
  {
   "cell_type": "markdown",
   "id": "325d30fb",
   "metadata": {},
   "source": [
    "    # Resample vs timedelta (the method I used)\n",
    "    # With resample, it will round the time to the nearest 30 minutes\n",
    "    # timedelta, I always floored the time to 30 minutes!"
   ]
  },
  {
   "cell_type": "code",
   "execution_count": 472,
   "id": "70a4416f",
   "metadata": {},
   "outputs": [],
   "source": [
    "# to see if time has any affect on engagement rate, need to extract the TIME and ignore the date it was posted\n",
    "\n",
    "# create 'Timestamp' column as datetime\n",
    "copyDf[\"Timestamp\"] = pd.to_datetime(copyDf[\"Published Date\"])\n",
    "\n",
    "# extract the time component from 'Timestamp'\n",
    "copyDf['Time'] = copyDf['Timestamp'].dt.time\n",
    "\n",
    "# convert the time component to timedelta\n",
    "# convert time to minutes then floor it to get 30 minute intervals\n",
    "copyDf['Time'] = copyDf['Time'].apply(lambda x: pd.to_timedelta(((x.hour * 60 + x.minute) // 30) * 30, unit='minutes'))\n",
    "\n",
    "# group data based on the 30 minute time intervals\n",
    "groupedData = copyDf.groupby('Time').mean()\n",
    "\n",
    "# reset the index\n",
    "groupedData.reset_index(inplace=True)\n",
    "\n",
    "#CONVERTING TIME FROM: 0 days 23:30:00 TO HH:MM FORMAT\n",
    "groupedData[\"Time\"] = groupedData[\"Time\"].apply(lambda x : str(x)[-8:-3])\n",
    "\n",
    "# groupedData.head()"
   ]
  },
  {
   "cell_type": "code",
   "execution_count": 473,
   "id": "a3a4051b",
   "metadata": {
    "scrolled": false
   },
   "outputs": [
    {
     "data": {
      "text/plain": [
       "Text(0.5, 1.0, 'Engagement Rate Every 30 Minutes')"
      ]
     },
     "execution_count": 473,
     "metadata": {},
     "output_type": "execute_result"
    },
    {
     "data": {
      "image/png": "[encoded data removed]",
      "text/plain": [
       "<Figure size 720x432 with 1 Axes>"
      ]
     },
     "metadata": {},
     "output_type": "display_data"
    }
   ],
   "source": [
    "sns.set_context(\"notebook\")\n",
    "# adjust the figure size to spread out the labels\n",
    "plt.figure(figsize=(10, 6))\n",
    "# rotate the x-axis labels\n",
    "plt.xticks(rotation=75, ha='right')  # rotate the labels and align them to the right\n",
    "plt.tight_layout()\n",
    "\n",
    "ax = sns.barplot(x = \"Time\", y = \"Engagement Rate\", data = groupedData)\n",
    "ax.set_ylabel(\"Engagement Rate (%)\")\n",
    "plt.title(\"Engagement Rate Every 30 Minutes\")"
   ]
  },
  {
   "cell_type": "markdown",
   "id": "046f4f87",
   "metadata": {},
   "source": [
    "# 3) How are our game titles doing in terms of social performance? Is there a specific game we should focus more on or less?\n",
    "The game titles provided are Valorant, CSGO, and DOTA2. <br>\n",
    "<br>\n",
    "Social performances can be analyzed based on both total impressions and engagement rates. <br>\n",
    "<br>\n",
    "In terms of engagement rate, they are all similar in value, with DOTA 2 being slightly higher than the other two. However, when looking at the total impressions, Valorant is much less than CSGO and DOTA 2. Because of this, it may be better to focus more on CSGO and DOTA2 if we want to reach a larger audience on social media. If we want a specific game to expand, Valorant is the game to focus on.\n",
    "\n",
    "    # Engagement Rate\n",
    "        Account\n",
    "        CSGO                3.030547\n",
    "        DOTA2               4.298295\n",
    "        Valorant            3.024861\n",
    "    ---------------------------------\n",
    "    # Total Impressions\n",
    "    Account\n",
    "        CSGO               2,313,918\n",
    "        DOTA2              1,859,326\n",
    "        Valorant              22,979\n",
    "     "
   ]
  },
  {
   "cell_type": "code",
   "execution_count": 474,
   "id": "8f3d2c0f",
   "metadata": {},
   "outputs": [
    {
     "name": "stdout",
     "output_type": "stream",
     "text": [
      "CSGO 4 ['TWITTER']\n",
      "Content Creators 16 ['YOUTUBE']\n",
      "DOTA2 5 ['TWITTER' 'YOUTUBE']\n",
      "General 7 ['LINKEDIN_COMPANY']\n",
      "General  8 ['FBPAGE' 'TWITTER' 'INSTAGRAM' 'TIKTOK_BUSINESS' 'YOUTUBE']\n",
      "Valorant 8 ['YOUTUBE']\n",
      "['CSGO' 'General ' 'DOTA2' 'Content Creators' 'Valorant' 'General']\n"
     ]
    }
   ],
   "source": [
    "# group by the type of games first\n",
    "# then see the trends for the day and times for it\n",
    "\n",
    "# groupby type of account\n",
    "accounts = copyDf.groupby(\"Account\")\n",
    "\n",
    "# list of dataframe\n",
    "dataframes = [dataframe for account, dataframe in accounts]\n",
    "\n",
    "for account, dataframe in accounts: \n",
    "    # GENERAL HAS DUPLICATE -- ONE IS LINKEDIN, THE OTHER IS FOR SOCIAL MEDIA\n",
    "    print(account, len(account), dataframe[\"Account Type\"].unique())\n",
    "\n",
    "# DISCOVERED THERE ARE TWO GENERAL ACCOUNT\n",
    "print(copyDf[\"Account\"].unique())"
   ]
  },
  {
   "cell_type": "code",
   "execution_count": 475,
   "id": "a3bf2548",
   "metadata": {
    "scrolled": false
   },
   "outputs": [
    {
     "data": {
      "text/html": [
       "<div>\n",
       "<style scoped>\n",
       "    .dataframe tbody tr th:only-of-type {\n",
       "        vertical-align: middle;\n",
       "    }\n",
       "\n",
       "    .dataframe tbody tr th {\n",
       "        vertical-align: top;\n",
       "    }\n",
       "\n",
       "    .dataframe thead th {\n",
       "        text-align: right;\n",
       "    }\n",
       "</style>\n",
       "<table border=\"1\" class=\"dataframe\">\n",
       "  <thead>\n",
       "    <tr style=\"text-align: right;\">\n",
       "      <th></th>\n",
       "      <th></th>\n",
       "      <th>Total Impressions</th>\n",
       "    </tr>\n",
       "    <tr>\n",
       "      <th>Account</th>\n",
       "      <th>Account Type</th>\n",
       "      <th></th>\n",
       "    </tr>\n",
       "  </thead>\n",
       "  <tbody>\n",
       "    <tr>\n",
       "      <th>CSGO</th>\n",
       "      <th>TWITTER</th>\n",
       "      <td>2313918.0</td>\n",
       "    </tr>\n",
       "    <tr>\n",
       "      <th>Content Creators</th>\n",
       "      <th>YOUTUBE</th>\n",
       "      <td>45186.0</td>\n",
       "    </tr>\n",
       "    <tr>\n",
       "      <th rowspan=\"2\" valign=\"top\">DOTA2</th>\n",
       "      <th>TWITTER</th>\n",
       "      <td>1790811.0</td>\n",
       "    </tr>\n",
       "    <tr>\n",
       "      <th>YOUTUBE</th>\n",
       "      <td>68515.0</td>\n",
       "    </tr>\n",
       "    <tr>\n",
       "      <th rowspan=\"5\" valign=\"top\">General</th>\n",
       "      <th>FBPAGE</th>\n",
       "      <td>14472842.0</td>\n",
       "    </tr>\n",
       "    <tr>\n",
       "      <th>INSTAGRAM</th>\n",
       "      <td>3574059.0</td>\n",
       "    </tr>\n",
       "    <tr>\n",
       "      <th>TIKTOK_BUSINESS</th>\n",
       "      <td>344159.0</td>\n",
       "    </tr>\n",
       "    <tr>\n",
       "      <th>TWITTER</th>\n",
       "      <td>15395867.0</td>\n",
       "    </tr>\n",
       "    <tr>\n",
       "      <th>YOUTUBE</th>\n",
       "      <td>101723.0</td>\n",
       "    </tr>\n",
       "    <tr>\n",
       "      <th>General LinkedIn</th>\n",
       "      <th>LINKEDIN_COMPANY</th>\n",
       "      <td>42801.0</td>\n",
       "    </tr>\n",
       "    <tr>\n",
       "      <th>Valorant</th>\n",
       "      <th>YOUTUBE</th>\n",
       "      <td>22979.0</td>\n",
       "    </tr>\n",
       "  </tbody>\n",
       "</table>\n",
       "</div>"
      ],
      "text/plain": [
       "                                   Total Impressions\n",
       "Account          Account Type                       \n",
       "CSGO             TWITTER                   2313918.0\n",
       "Content Creators YOUTUBE                     45186.0\n",
       "DOTA2            TWITTER                   1790811.0\n",
       "                 YOUTUBE                     68515.0\n",
       "General          FBPAGE                   14472842.0\n",
       "                 INSTAGRAM                 3574059.0\n",
       "                 TIKTOK_BUSINESS            344159.0\n",
       "                 TWITTER                  15395867.0\n",
       "                 YOUTUBE                    101723.0\n",
       "General LinkedIn LINKEDIN_COMPANY            42801.0\n",
       "Valorant         YOUTUBE                     22979.0"
      ]
     },
     "execution_count": 475,
     "metadata": {},
     "output_type": "execute_result"
    }
   ],
   "source": [
    "# replaced general with general linkedin as its only account type was LinkedIn Company\n",
    "copyDf.loc[copyDf[\"Account\"] == \"General\", \"Account\"] = \"General LinkedIn\"\n",
    "\n",
    "# created dataframe to break down the type of account\n",
    "acc = copyDf.groupby([\"Account\", \"Account Type\"])[\"Total Impressions\"].sum()\n",
    "acc = pd.DataFrame(acc)\n",
    "acc"
   ]
  },
  {
   "cell_type": "code",
   "execution_count": 476,
   "id": "857f72ea",
   "metadata": {},
   "outputs": [
    {
     "data": {
      "text/html": [
       "<div>\n",
       "<style scoped>\n",
       "    .dataframe tbody tr th:only-of-type {\n",
       "        vertical-align: middle;\n",
       "    }\n",
       "\n",
       "    .dataframe tbody tr th {\n",
       "        vertical-align: top;\n",
       "    }\n",
       "\n",
       "    .dataframe thead th {\n",
       "        text-align: right;\n",
       "    }\n",
       "</style>\n",
       "<table border=\"1\" class=\"dataframe\">\n",
       "  <thead>\n",
       "    <tr style=\"text-align: right;\">\n",
       "      <th></th>\n",
       "      <th>Account</th>\n",
       "      <th>Total Impressions</th>\n",
       "    </tr>\n",
       "  </thead>\n",
       "  <tbody>\n",
       "    <tr>\n",
       "      <th>0</th>\n",
       "      <td>CSGO</td>\n",
       "      <td>2313918.0</td>\n",
       "    </tr>\n",
       "    <tr>\n",
       "      <th>1</th>\n",
       "      <td>Content Creators</td>\n",
       "      <td>45186.0</td>\n",
       "    </tr>\n",
       "    <tr>\n",
       "      <th>2</th>\n",
       "      <td>DOTA2</td>\n",
       "      <td>1859326.0</td>\n",
       "    </tr>\n",
       "    <tr>\n",
       "      <th>3</th>\n",
       "      <td>General</td>\n",
       "      <td>33888650.0</td>\n",
       "    </tr>\n",
       "    <tr>\n",
       "      <th>4</th>\n",
       "      <td>General LinkedIn</td>\n",
       "      <td>42801.0</td>\n",
       "    </tr>\n",
       "    <tr>\n",
       "      <th>5</th>\n",
       "      <td>Valorant</td>\n",
       "      <td>22979.0</td>\n",
       "    </tr>\n",
       "  </tbody>\n",
       "</table>\n",
       "</div>"
      ],
      "text/plain": [
       "            Account  Total Impressions\n",
       "0              CSGO          2313918.0\n",
       "1  Content Creators            45186.0\n",
       "2             DOTA2          1859326.0\n",
       "3          General          33888650.0\n",
       "4  General LinkedIn            42801.0\n",
       "5          Valorant            22979.0"
      ]
     },
     "execution_count": 476,
     "metadata": {},
     "output_type": "execute_result"
    }
   ],
   "source": [
    "# created dataframe for Total Impressions for every Account\n",
    "acc = copyDf.groupby(\"Account\")[\"Total Impressions\"].sum().reset_index()\n",
    "acc"
   ]
  },
  {
   "cell_type": "code",
   "execution_count": 477,
   "id": "835cc75f",
   "metadata": {},
   "outputs": [
    {
     "data": {
      "text/plain": [
       "Account\n",
       "CSGO                3.030547\n",
       "Content Creators    4.075632\n",
       "DOTA2               4.298295\n",
       "General             4.365911\n",
       "General LinkedIn    1.795018\n",
       "Valorant            3.024861\n",
       "Name: Engagement Rate, dtype: float64"
      ]
     },
     "execution_count": 477,
     "metadata": {},
     "output_type": "execute_result"
    }
   ],
   "source": [
    "# group by account and calculate the mean engagement rate\n",
    "er = copyDf.groupby(\"Account\")[\"Engagement Rate\"].mean()\n",
    "er"
   ]
  },
  {
   "cell_type": "code",
   "execution_count": 478,
   "id": "cdec4e8c",
   "metadata": {
    "scrolled": false
   },
   "outputs": [
    {
     "data": {
      "text/plain": [
       "Text(0.5, 1.0, 'Engagement Rate per Account')"
      ]
     },
     "execution_count": 478,
     "metadata": {},
     "output_type": "execute_result"
    },
    {
     "data": {
      "image/png": "[encoded data removed]",
      "text/plain": [
       "<Figure size 720x432 with 1 Axes>"
      ]
     },
     "metadata": {},
     "output_type": "display_data"
    }
   ],
   "source": [
    "# I think this is better -- look for type of account - then compare the account type\n",
    "copyDf[\"Account Type\"].unique()\n",
    "sns.set_context(\"notebook\")\n",
    "# Adjust the figure size to spread out the labels\n",
    "plt.figure(figsize=(10, 6))\n",
    "# plt.tight_layout()\n",
    "ax = sns.barplot(x = \"Account\", y = \"Engagement Rate\", data = copyDf, hue = \"Account Type\")\n",
    "sns.move_legend(ax, \"upper right\")\n",
    "ax.set_ylabel(\"Engagement Rate (%)\")\n",
    "plt.title(\"Engagement Rate per Account\")"
   ]
  },
  {
   "cell_type": "markdown",
   "id": "c673bf83",
   "metadata": {},
   "source": [
    "## 4) What media type performs the best?\n",
    "The media type that performs the best in terms of total impressions and total engagements are photos and videos. They have a significantly greater number of total impressions than the rest. Photos are interacted with much more than the other media types overall.<br>\n",
    "<br>\n",
    "But in terms of average engagement rate, Mixed and Album has the highest engagement rate. Although Album is ranked second for engagement rate, the number of posts is significantly less than the other types of media. Engagement rates of photos and videos may not be the highest due to the large amount of posts published and impressions. <br>\n",
    "\n",
    "    # Total Impressions\n",
    "    Media Type\n",
    "        Album              20\n",
    "        Carousel       160,689\n",
    "        Mixed          184,984\n",
    "        Link           232,465\n",
    "        Text         3,106,203\n",
    "        Video       10,594,813\n",
    "        Photo       23,893,686\n",
    "    \n",
    "    # Total Engagements\n",
    "    Media Type\n",
    "        Album                8\n",
    "        Link             2,257\n",
    "        Carousel         6,541\n",
    "        Mixed           13,664\n",
    "        Text           246,312\n",
    "        Video          859,451\n",
    "        Photo        2,162,979\n",
    "       \n",
    "    # Engagement Rate\n",
    "    Media Type\n",
    "        Album       10.000000\n",
    "        Carousel     3.784294\n",
    "        Link         1.635631\n",
    "        Mixed       10.770357\n",
    "        Photo        4.941047\n",
    "        Text         2.459318\n",
    "        Video        4.903493\n",
    "\n",
    "    # Value Counts\n",
    "    Media Type\n",
    "        Photo           1,487\n",
    "        Video             967\n",
    "        Text              910\n",
    "        Link               94\n",
    "        Carousel            9\n",
    "        Mixed               5\n",
    "        Album               4"
   ]
  },
  {
   "cell_type": "code",
   "execution_count": 479,
   "id": "73dcdaae",
   "metadata": {},
   "outputs": [
    {
     "data": {
      "text/plain": [
       "Media Type\n",
       "Album             20.0\n",
       "Carousel      160689.0\n",
       "Mixed         184984.0\n",
       "Link          232465.0\n",
       "Text         3106203.0\n",
       "Video       10594813.0\n",
       "Photo       23893686.0\n",
       "Name: Total Impressions, dtype: float64"
      ]
     },
     "execution_count": 479,
     "metadata": {},
     "output_type": "execute_result"
    }
   ],
   "source": [
    "# series for sum of total impressions based on media type\n",
    "ti = copyDf.groupby(\"Media Type\")[\"Total Impressions\"].sum()\n",
    "\n",
    "# graph bars are too far apart\n",
    "# sns.barplot(x = \"Media Type\", y = \"Total Impressions\", data = copyDf, estimator = sum)\n",
    "\n",
    "ti.sort_values()"
   ]
  },
  {
   "cell_type": "code",
   "execution_count": 480,
   "id": "c128b28a",
   "metadata": {},
   "outputs": [
    {
     "data": {
      "text/plain": [
       "Media Type\n",
       "Album             8.0\n",
       "Link           2257.0\n",
       "Carousel       6541.0\n",
       "Mixed         13664.0\n",
       "Text         246312.0\n",
       "Video        859451.0\n",
       "Photo       2162979.0\n",
       "Name: Total Engagements, dtype: float64"
      ]
     },
     "execution_count": 480,
     "metadata": {},
     "output_type": "execute_result"
    }
   ],
   "source": [
    "te = copyDf.groupby(\"Media Type\")[\"Total Engagements\"].sum()\n",
    "te.sort_values()"
   ]
  },
  {
   "cell_type": "code",
   "execution_count": 481,
   "id": "591857fa",
   "metadata": {},
   "outputs": [
    {
     "data": {
      "text/plain": [
       "Media Type\n",
       "Album       10.000000\n",
       "Carousel     3.784294\n",
       "Link         1.635631\n",
       "Mixed       10.770357\n",
       "Photo        4.941047\n",
       "Text         2.459318\n",
       "Video        4.903493\n",
       "Name: Engagement Rate, dtype: float64"
      ]
     },
     "execution_count": 481,
     "metadata": {},
     "output_type": "execute_result"
    }
   ],
   "source": [
    "mediaER = copyDf.groupby(\"Media Type\")[\"Engagement Rate\"].mean()\n",
    "mediaER"
   ]
  },
  {
   "cell_type": "code",
   "execution_count": 482,
   "id": "4ff1665a",
   "metadata": {
    "scrolled": false
   },
   "outputs": [
    {
     "data": {
      "text/plain": [
       "Text(0.5, 1.0, 'Average Engagement Rate per Media Type')"
      ]
     },
     "execution_count": 482,
     "metadata": {},
     "output_type": "execute_result"
    },
    {
     "data": {
      "image/png": "[encoded data removed]",
      "text/plain": [
       "<Figure size 720x432 with 1 Axes>"
      ]
     },
     "metadata": {},
     "output_type": "display_data"
    }
   ],
   "source": [
    "# Adjust the figure size to spread out the labels\n",
    "plt.figure(figsize=(10, 6))\n",
    "\n",
    "sns.barplot(x = \"Media Type\", y = \"Engagement Rate\", data = copyDf)\n",
    "\n",
    "# I want to show the count of media types on top of bar\n",
    "order = [\"Video\", \"Photo\", \"Link\", \"Text\", \"Carousel\", \"Mixed\", \"Album\"]\n",
    "# value count in specific order of graph\n",
    "values = copyDf[\"Media Type\"].value_counts().loc[order]\n",
    "\n",
    "\n",
    "# calculate average to place the count value on top of bar\n",
    "avg = [copyDf[copyDf[\"Media Type\"] == media][\"Engagement Rate\"].mean() for media in order]\n",
    "\n",
    "plt.title(\"Average Engagement Rate per Media Type\")"
   ]
  },
  {
   "cell_type": "code",
   "execution_count": 483,
   "id": "e94d45d6",
   "metadata": {
    "scrolled": true
   },
   "outputs": [
    {
     "data": {
      "text/plain": [
       "Photo       1487\n",
       "Video        967\n",
       "Text         910\n",
       "Link          94\n",
       "Carousel       9\n",
       "Mixed          5\n",
       "Album          4\n",
       "Name: Media Type, dtype: int64"
      ]
     },
     "execution_count": 483,
     "metadata": {},
     "output_type": "execute_result"
    }
   ],
   "source": [
    "copyDf[\"Media Type\"].value_counts()"
   ]
  },
  {
   "cell_type": "markdown",
   "id": "9d0d5461",
   "metadata": {},
   "source": [
    "## 5) What is our best performing campaign?\n",
    "The best-performing campaign is Community Engagement with the highest total impressions and engagement rate. <br>\n",
    "The heatmap made below shows that using the account type, FBPAGE, the campaign has a positive correlation to the engagement rate for most of the campaigns.\n",
    "<br>\n",
    "\n",
    "    # Total Impressions\n",
    "    Campaign Name\n",
    "        Community Engagement     23,803,756\n",
    "        Evergreen                 1,328,729\n",
    "        Evil Exhibited            5,742,595\n",
    "        N/A                       7,297,780\n",
    "        \n",
    "    # Engagement Rate\n",
    "    Campaign Name\n",
    "        Community Engagement       5.634547\n",
    "        Evergreen                  3.467474\n",
    "        Evil Exhibited             2.681813\n",
    "        N/A                        3.351382"
   ]
  },
  {
   "cell_type": "code",
   "execution_count": 484,
   "id": "e9862352",
   "metadata": {},
   "outputs": [
    {
     "name": "stdout",
     "output_type": "stream",
     "text": [
      "['N/A ' 'Community Engagement ' 'Evergreen ' 'Evil Exhibited ']\n",
      "Campaign Name\n",
      "Community Engagement     23803756.0\n",
      "Evergreen                 1328729.0\n",
      "Evil Exhibited            5742595.0\n",
      "N/A                       7297780.0\n",
      "Name: Total Impressions, dtype: float64\n",
      "Campaign Name\n",
      "Community Engagement     5.634547\n",
      "Evergreen                3.467474\n",
      "Evil Exhibited           2.681813\n",
      "N/A                      3.351382\n",
      "Name: Engagement Rate, dtype: float64\n"
     ]
    }
   ],
   "source": [
    "print(copyDf[\"Campaign Name\"].unique())\n",
    "campaignTI = copyDf.groupby(\"Campaign Name\")[\"Total Impressions\"].sum()\n",
    "campaignER = copyDf.groupby(\"Campaign Name\")[\"Engagement Rate\"].mean()\n",
    "print(campaignTI)\n",
    "print(campaignER)"
   ]
  },
  {
   "cell_type": "code",
   "execution_count": 485,
   "id": "5cdcc9ec",
   "metadata": {
    "scrolled": false
   },
   "outputs": [
    {
     "data": {
      "text/html": [
       "<div>\n",
       "<style scoped>\n",
       "    .dataframe tbody tr th:only-of-type {\n",
       "        vertical-align: middle;\n",
       "    }\n",
       "\n",
       "    .dataframe tbody tr th {\n",
       "        vertical-align: top;\n",
       "    }\n",
       "\n",
       "    .dataframe thead th {\n",
       "        text-align: right;\n",
       "    }\n",
       "</style>\n",
       "<table border=\"1\" class=\"dataframe\">\n",
       "  <thead>\n",
       "    <tr style=\"text-align: right;\">\n",
       "      <th>Campaign Name</th>\n",
       "      <th>Community Engagement</th>\n",
       "      <th>Evergreen</th>\n",
       "      <th>Evil Exhibited</th>\n",
       "      <th>N/A</th>\n",
       "    </tr>\n",
       "    <tr>\n",
       "      <th>Account Type</th>\n",
       "      <th></th>\n",
       "      <th></th>\n",
       "      <th></th>\n",
       "      <th></th>\n",
       "    </tr>\n",
       "  </thead>\n",
       "  <tbody>\n",
       "    <tr>\n",
       "      <th>FBPAGE</th>\n",
       "      <td>14.505180</td>\n",
       "      <td>13.098000</td>\n",
       "      <td>3.513447</td>\n",
       "      <td>8.407131</td>\n",
       "    </tr>\n",
       "    <tr>\n",
       "      <th>INSTAGRAM</th>\n",
       "      <td>1.208653</td>\n",
       "      <td>1.744471</td>\n",
       "      <td>0.815349</td>\n",
       "      <td>0.100795</td>\n",
       "    </tr>\n",
       "    <tr>\n",
       "      <th>LINKEDIN_COMPANY</th>\n",
       "      <td>1.860454</td>\n",
       "      <td>NaN</td>\n",
       "      <td>3.213268</td>\n",
       "      <td>0.929658</td>\n",
       "    </tr>\n",
       "    <tr>\n",
       "      <th>TIKTOK_BUSINESS</th>\n",
       "      <td>6.422724</td>\n",
       "      <td>4.832811</td>\n",
       "      <td>3.770242</td>\n",
       "      <td>8.659015</td>\n",
       "    </tr>\n",
       "    <tr>\n",
       "      <th>TWITTER</th>\n",
       "      <td>3.468913</td>\n",
       "      <td>11.770774</td>\n",
       "      <td>2.961700</td>\n",
       "      <td>3.078287</td>\n",
       "    </tr>\n",
       "    <tr>\n",
       "      <th>YOUTUBE</th>\n",
       "      <td>7.455909</td>\n",
       "      <td>3.653416</td>\n",
       "      <td>2.964750</td>\n",
       "      <td>2.010710</td>\n",
       "    </tr>\n",
       "  </tbody>\n",
       "</table>\n",
       "</div>"
      ],
      "text/plain": [
       "Campaign Name     Community Engagement   Evergreen   Evil Exhibited       N/A \n",
       "Account Type                                                                  \n",
       "FBPAGE                        14.505180   13.098000         3.513447  8.407131\n",
       "INSTAGRAM                      1.208653    1.744471         0.815349  0.100795\n",
       "LINKEDIN_COMPANY               1.860454         NaN         3.213268  0.929658\n",
       "TIKTOK_BUSINESS                6.422724    4.832811         3.770242  8.659015\n",
       "TWITTER                        3.468913   11.770774         2.961700  3.078287\n",
       "YOUTUBE                        7.455909    3.653416         2.964750  2.010710"
      ]
     },
     "execution_count": 485,
     "metadata": {},
     "output_type": "execute_result"
    }
   ],
   "source": [
    "# CER = Campaign Engagement Rate\n",
    "CER = pd.pivot_table(copyDf, index = [\"Account Type\"], columns = [\"Campaign Name\"], values = \"Engagement Rate\")\n",
    "CER"
   ]
  },
  {
   "cell_type": "code",
   "execution_count": 486,
   "id": "e951c6e7",
   "metadata": {},
   "outputs": [
    {
     "data": {
      "text/plain": [
       "<AxesSubplot:xlabel='Campaign Name', ylabel='Account Type'>"
      ]
     },
     "execution_count": 486,
     "metadata": {},
     "output_type": "execute_result"
    },
    {
     "data": {
      "image/png": "[encoded data removed]",
      "text/plain": [
       "<Figure size 720x432 with 2 Axes>"
      ]
     },
     "metadata": {},
     "output_type": "display_data"
    }
   ],
   "source": [
    "plt.figure(figsize=(10, 6))\n",
    "sns.heatmap(CER, linecolor = \"white\", linewidths = 1, cmap = \"crest\")"
   ]
  },
  {
   "cell_type": "markdown",
   "id": "dac4eb67",
   "metadata": {},
   "source": [
    "## 6) Define out a posting strategy for our social channels based on your discoveries?\n",
    "Based on the heatmap below, focusing on account type is a good way to decide what media type to post. For example, the strategy to post on FBPAGE is to focus on videos, photos, and albums since they have a higher engagement rate. Another example would be if we plan to post something on Instagram, publishing a media type of Carousel would be better than a text media type. <br>\n",
    "Applying this strategy to each account type will hopefully lead to higher engagement rates. <br>\n",
    "This strategy is focused solely on taking advantage of what media type is more engaging to the audience for each platform."
   ]
  },
  {
   "cell_type": "code",
   "execution_count": 452,
   "id": "38100acb",
   "metadata": {},
   "outputs": [
    {
     "data": {
      "text/html": [
       "<div>\n",
       "<style scoped>\n",
       "    .dataframe tbody tr th:only-of-type {\n",
       "        vertical-align: middle;\n",
       "    }\n",
       "\n",
       "    .dataframe tbody tr th {\n",
       "        vertical-align: top;\n",
       "    }\n",
       "\n",
       "    .dataframe thead th {\n",
       "        text-align: right;\n",
       "    }\n",
       "</style>\n",
       "<table border=\"1\" class=\"dataframe\">\n",
       "  <thead>\n",
       "    <tr style=\"text-align: right;\">\n",
       "      <th>Account Type</th>\n",
       "      <th>FBPAGE</th>\n",
       "      <th>INSTAGRAM</th>\n",
       "      <th>LINKEDIN_COMPANY</th>\n",
       "      <th>TIKTOK_BUSINESS</th>\n",
       "      <th>TWITTER</th>\n",
       "      <th>YOUTUBE</th>\n",
       "    </tr>\n",
       "    <tr>\n",
       "      <th>Media Type</th>\n",
       "      <th></th>\n",
       "      <th></th>\n",
       "      <th></th>\n",
       "      <th></th>\n",
       "      <th></th>\n",
       "      <th></th>\n",
       "    </tr>\n",
       "  </thead>\n",
       "  <tbody>\n",
       "    <tr>\n",
       "      <th>Album</th>\n",
       "      <td>10.000000</td>\n",
       "      <td>NaN</td>\n",
       "      <td>NaN</td>\n",
       "      <td>NaN</td>\n",
       "      <td>NaN</td>\n",
       "      <td>NaN</td>\n",
       "    </tr>\n",
       "    <tr>\n",
       "      <th>Carousel</th>\n",
       "      <td>NaN</td>\n",
       "      <td>3.784294</td>\n",
       "      <td>NaN</td>\n",
       "      <td>NaN</td>\n",
       "      <td>NaN</td>\n",
       "      <td>NaN</td>\n",
       "    </tr>\n",
       "    <tr>\n",
       "      <th>Link</th>\n",
       "      <td>0.057891</td>\n",
       "      <td>0.000000</td>\n",
       "      <td>2.310642</td>\n",
       "      <td>NaN</td>\n",
       "      <td>2.056435</td>\n",
       "      <td>0.000000</td>\n",
       "    </tr>\n",
       "    <tr>\n",
       "      <th>Mixed</th>\n",
       "      <td>NaN</td>\n",
       "      <td>NaN</td>\n",
       "      <td>NaN</td>\n",
       "      <td>NaN</td>\n",
       "      <td>10.770357</td>\n",
       "      <td>NaN</td>\n",
       "    </tr>\n",
       "    <tr>\n",
       "      <th>Photo</th>\n",
       "      <td>13.647598</td>\n",
       "      <td>0.459752</td>\n",
       "      <td>1.934351</td>\n",
       "      <td>NaN</td>\n",
       "      <td>2.932845</td>\n",
       "      <td>NaN</td>\n",
       "    </tr>\n",
       "    <tr>\n",
       "      <th>Text</th>\n",
       "      <td>3.927818</td>\n",
       "      <td>0.000000</td>\n",
       "      <td>0.613156</td>\n",
       "      <td>NaN</td>\n",
       "      <td>2.689368</td>\n",
       "      <td>0.000000</td>\n",
       "    </tr>\n",
       "    <tr>\n",
       "      <th>Video</th>\n",
       "      <td>15.059735</td>\n",
       "      <td>1.141756</td>\n",
       "      <td>2.479645</td>\n",
       "      <td>5.316753</td>\n",
       "      <td>4.965940</td>\n",
       "      <td>3.832879</td>\n",
       "    </tr>\n",
       "  </tbody>\n",
       "</table>\n",
       "</div>"
      ],
      "text/plain": [
       "Account Type     FBPAGE  INSTAGRAM  LINKEDIN_COMPANY  TIKTOK_BUSINESS  \\\n",
       "Media Type                                                              \n",
       "Album         10.000000        NaN               NaN              NaN   \n",
       "Carousel            NaN   3.784294               NaN              NaN   \n",
       "Link           0.057891   0.000000          2.310642              NaN   \n",
       "Mixed               NaN        NaN               NaN              NaN   \n",
       "Photo         13.647598   0.459752          1.934351              NaN   \n",
       "Text           3.927818   0.000000          0.613156              NaN   \n",
       "Video         15.059735   1.141756          2.479645         5.316753   \n",
       "\n",
       "Account Type    TWITTER   YOUTUBE  \n",
       "Media Type                         \n",
       "Album               NaN       NaN  \n",
       "Carousel            NaN       NaN  \n",
       "Link           2.056435  0.000000  \n",
       "Mixed         10.770357       NaN  \n",
       "Photo          2.932845       NaN  \n",
       "Text           2.689368  0.000000  \n",
       "Video          4.965940  3.832879  "
      ]
     },
     "execution_count": 452,
     "metadata": {},
     "output_type": "execute_result"
    }
   ],
   "source": [
    "# MER = Media Engagement Rate\n",
    "MER = pd.pivot_table(copyDf, index = [\"Media Type\"], columns = [\"Account Type\"], values = \"Engagement Rate\")\n",
    "MER"
   ]
  },
  {
   "cell_type": "code",
   "execution_count": 455,
   "id": "c3db89fd",
   "metadata": {},
   "outputs": [
    {
     "data": {
      "text/plain": [
       "<AxesSubplot:xlabel='Account Type', ylabel='Media Type'>"
      ]
     },
     "execution_count": 455,
     "metadata": {},
     "output_type": "execute_result"
    },
    {
     "data": {
      "image/png": "[encoded data removed]",
      "text/plain": [
       "<Figure size 720x432 with 2 Axes>"
      ]
     },
     "metadata": {},
     "output_type": "display_data"
    }
   ],
   "source": [
    "plt.figure(figsize=(10, 6))\n",
    "sns.heatmap(MER, linecolor = \"white\", linewidths = 1, cmap = \"YlGnBu\")"
   ]
  },
  {
   "cell_type": "markdown",
   "id": "8c75311c",
   "metadata": {},
   "source": [
    "## 7) What suggestions would you give to the social media team if they want to expand their presence (e.g. if our CSGO youtube channel is doing well should we expand to TikTok)?\n",
    "I believe to expand its presence overall, every game could try expanding to Facebook as it has the largest engagement rate with an average of 11.28% rounded down. TikTok is also a good platform to expand on as it has the second-highest engagement rate. <br>\n",
    "<br>\n",
    "Based on the heatmap below, the engagement rate for the game Valorant and CSGO is lower than DOTA2's on both YouTube and Twitter and should look into expanding to new social media platforms such as FBPAGE and TikTok. According to the total impressions for each platform, Twitter receives the most so Valorant should also look into expanding on Twitter. <br>\n",
    "<br>\n",
    "I can also see that EG has only done TikTok for general accounts but not for any specific games. Expanding into TikTok for accounts that already have touched YouTube, Instagram, or Facebook would be best because they share something in common which is reels. This short interaction is very addicting and because reels already exist on YouTube, Instagram, and Facebook, expanding to TikTok would be a simple transition. So with that said, those with a DOTA2, Content Creators, or Valorant account could try to expand to TikTok. <br>\n",
    "<br>\n",
    "As someone who uses social media a lot, I believe expanding the general account for LinkedIn to Instagram and Facebook would be best because they are more professional than the other social media platforms.<br>\n",
    "<br>\n",
    "As a valorant fan myself, I believe expanding Valorant right now would be the best since Evil Geniuses team had just qualified for the largest tournaments of the year, hosted by RiotGames, Valorant Masters in Tokyo, and Valorant Champions 2023. Bringing more exposure to Evil Geniuses' Valorant team and their gameplay will vastly increase exposure to the organization as these tournaments are a big deal on a global scale! <br>"
   ]
  },
  {
   "cell_type": "code",
   "execution_count": 390,
   "id": "4a9554f8",
   "metadata": {},
   "outputs": [
    {
     "data": {
      "text/plain": [
       "Account Type\n",
       "FBPAGE              11.283108\n",
       "INSTAGRAM            0.666769\n",
       "LINKEDIN_COMPANY     1.795018\n",
       "TIKTOK_BUSINESS      5.316753\n",
       "TWITTER              3.248994\n",
       "YOUTUBE              3.048881\n",
       "Name: Engagement Rate, dtype: float64"
      ]
     },
     "execution_count": 390,
     "metadata": {},
     "output_type": "execute_result"
    }
   ],
   "source": [
    "copyDf.groupby(\"Account Type\")[\"Engagement Rate\"].mean()"
   ]
  },
  {
   "cell_type": "code",
   "execution_count": 397,
   "id": "6a5aaab4",
   "metadata": {},
   "outputs": [
    {
     "data": {
      "text/plain": [
       "Account Type\n",
       "FBPAGE              14472842.0\n",
       "INSTAGRAM            3574059.0\n",
       "LINKEDIN_COMPANY       42801.0\n",
       "TIKTOK_BUSINESS       344159.0\n",
       "TWITTER             19500596.0\n",
       "YOUTUBE               238403.0\n",
       "Name: Total Impressions, dtype: float64"
      ]
     },
     "execution_count": 397,
     "metadata": {},
     "output_type": "execute_result"
    }
   ],
   "source": [
    "copyDf.groupby(\"Account Type\")[\"Total Impressions\"].sum()"
   ]
  },
  {
   "cell_type": "code",
   "execution_count": 442,
   "id": "5c3b2004",
   "metadata": {},
   "outputs": [
    {
     "data": {
      "text/html": [
       "<div>\n",
       "<style scoped>\n",
       "    .dataframe tbody tr th:only-of-type {\n",
       "        vertical-align: middle;\n",
       "    }\n",
       "\n",
       "    .dataframe tbody tr th {\n",
       "        vertical-align: top;\n",
       "    }\n",
       "\n",
       "    .dataframe thead th {\n",
       "        text-align: right;\n",
       "    }\n",
       "</style>\n",
       "<table border=\"1\" class=\"dataframe\">\n",
       "  <thead>\n",
       "    <tr style=\"text-align: right;\">\n",
       "      <th>Account Type</th>\n",
       "      <th>TWITTER</th>\n",
       "      <th>YOUTUBE</th>\n",
       "    </tr>\n",
       "    <tr>\n",
       "      <th>Account</th>\n",
       "      <th></th>\n",
       "      <th></th>\n",
       "    </tr>\n",
       "  </thead>\n",
       "  <tbody>\n",
       "    <tr>\n",
       "      <th>CSGO</th>\n",
       "      <td>3.030547</td>\n",
       "      <td>NaN</td>\n",
       "    </tr>\n",
       "    <tr>\n",
       "      <th>DOTA2</th>\n",
       "      <td>4.310028</td>\n",
       "      <td>3.132272</td>\n",
       "    </tr>\n",
       "    <tr>\n",
       "      <th>Valorant</th>\n",
       "      <td>NaN</td>\n",
       "      <td>3.024861</td>\n",
       "    </tr>\n",
       "  </tbody>\n",
       "</table>\n",
       "</div>"
      ],
      "text/plain": [
       "Account Type   TWITTER   YOUTUBE\n",
       "Account                         \n",
       "CSGO          3.030547       NaN\n",
       "DOTA2         4.310028  3.132272\n",
       "Valorant           NaN  3.024861"
      ]
     },
     "execution_count": 442,
     "metadata": {},
     "output_type": "execute_result"
    }
   ],
   "source": [
    "val = copyDf[copyDf[\"Account\"] == \"Valorant\"]\n",
    "cs = copyDf[copyDf[\"Account\"] == \"CSGO\"]\n",
    "dota = copyDf[copyDf[\"Account\"] == \"DOTA2\"]\n",
    "\n",
    "# Game Engagement Rate\n",
    "GER = pd.concat([val, cs, dota])\n",
    "GER = pd.pivot_table(GER, index = [\"Account\"], columns = [\"Account Type\"], values = \"Engagement Rate\")\n",
    "GER"
   ]
  },
  {
   "cell_type": "code",
   "execution_count": 456,
   "id": "543a4af0",
   "metadata": {},
   "outputs": [
    {
     "data": {
      "text/plain": [
       "<AxesSubplot:xlabel='Account Type', ylabel='Account'>"
      ]
     },
     "execution_count": 456,
     "metadata": {},
     "output_type": "execute_result"
    },
    {
     "data": {
      "image/png": "[encoded data removed]",
      "text/plain": [
       "<Figure size 720x432 with 2 Axes>"
      ]
     },
     "metadata": {},
     "output_type": "display_data"
    }
   ],
   "source": [
    "plt.figure(figsize=(10, 6))\n",
    "sns.heatmap(GER, linecolor = \"white\", linewidths = 1, cmap = \"YlGnBu\")"
   ]
  }
 ],
 "metadata": {
  "kernelspec": {
   "display_name": "Python 3 (ipykernel)",
   "language": "python",
   "name": "python3"
  },
  "language_info": {
   "codemirror_mode": {
    "name": "ipython",
    "version": 3
   },
   "file_extension": ".py",
   "mimetype": "text/x-python",
   "name": "python",
   "nbconvert_exporter": "python",
   "pygments_lexer": "ipython3",
   "version": "3.9.7"
  }
 },
 "nbformat": 4,
 "nbformat_minor": 5
}
